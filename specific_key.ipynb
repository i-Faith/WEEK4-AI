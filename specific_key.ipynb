{
 "cells": [
  {
   "cell_type": "markdown",
   "id": "1022791f",
   "metadata": {},
   "source": [
    "### AI-Powered Code Completion\n",
    "#### Task: Write a Python function to sort a list of dictionaries by a specific key."
   ]
  },
  {
   "cell_type": "markdown",
   "id": "0374f385",
   "metadata": {},
   "source": [
    "##### AI-Suggested Code (using GitHub Copilot):"
   ]
  },
  {
   "cell_type": "code",
   "execution_count": 1,
   "id": "1f874cdc",
   "metadata": {},
   "outputs": [],
   "source": [
    "def sort_dicts_by_key(data, key):\n",
    "    return sorted(data, key=lambda x: x[key])\n"
   ]
  },
  {
   "cell_type": "markdown",
   "id": "a4cf567d",
   "metadata": {},
   "source": [
    "##### Manual Implementation:"
   ]
  },
  {
   "cell_type": "code",
   "execution_count": 2,
   "id": "e74ed793",
   "metadata": {},
   "outputs": [],
   "source": [
    "def sort_dicts_by_key(data, key):\n",
    "    sorted_list = []\n",
    "    for item in data:\n",
    "        inserted = False\n",
    "        for i in range(len(sorted_list)):\n",
    "            if item[key] < sorted_list[i][key]:\n",
    "                sorted_list.insert(i, item)\n",
    "                inserted = True\n",
    "                break\n",
    "        if not inserted:\n",
    "            sorted_list.append(item)\n",
    "    return sorted_list\n"
   ]
  },
  {
   "cell_type": "markdown",
   "id": "07ee55c5",
   "metadata": {},
   "source": [
    "#### Analysis\n",
    "- Both functions sort a list of dictionaries by a specified key, but the AI-generated version is more efficient. It uses Python's built-in sorted () function, which internally uses Timsort optimized for performance and stability. The manual version is functional but reinvents by using nested loops to perform insertion sort, making it harder to maintain and significantly slower for large datasets.\n",
    "Using Copilot saved time, offered clean syntax, and adhered to Pythonic best practices. However, the suggestion assumes you already know the key parameter behavior in sorted (). For beginners, this might be opaque without explanation. Also, it doesn't handle errors like missing keys or wrong data types.\n",
    "Overall, the AI-suggested code is more concise, readable, and performant. In real-world development, such tools help by offering quick solutions to common tasks, allowing developers to focus more on complex logic.\n"
   ]
  }
 ],
 "metadata": {
  "kernelspec": {
   "display_name": "Python 3",
   "language": "python",
   "name": "python3"
  },
  "language_info": {
   "codemirror_mode": {
    "name": "ipython",
    "version": 3
   },
   "file_extension": ".py",
   "mimetype": "text/x-python",
   "name": "python",
   "nbconvert_exporter": "python",
   "pygments_lexer": "ipython3",
   "version": "3.13.2"
  }
 },
 "nbformat": 4,
 "nbformat_minor": 5
}
